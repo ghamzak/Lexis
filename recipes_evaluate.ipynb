{
 "cells": [
  {
   "cell_type": "code",
   "execution_count": 1,
   "metadata": {},
   "outputs": [
    {
     "name": "stderr",
     "output_type": "stream",
     "text": [
      "/data/anaconda3/envs/ghazaleh-dis/lib/python3.8/site-packages/tqdm/auto.py:22: TqdmWarning: IProgress not found. Please update jupyter and ipywidgets. See https://ipywidgets.readthedocs.io/en/stable/user_install.html\n",
      "  from .autonotebook import tqdm as notebook_tqdm\n",
      "2022-10-19 08:42:38.229939: W tensorflow/stream_executor/platform/default/dso_loader.cc:64] Could not load dynamic library 'libcusolver.so.11'; dlerror: libcusolver.so.11: cannot open shared object file: No such file or directory\n",
      "2022-10-19 08:42:38.230065: W tensorflow/stream_executor/platform/default/dso_loader.cc:64] Could not load dynamic library 'libcudnn.so.8'; dlerror: libcudnn.so.8: cannot open shared object file: No such file or directory\n",
      "2022-10-19 08:42:38.230080: W tensorflow/core/common_runtime/gpu/gpu_device.cc:1850] Cannot dlopen some GPU libraries. Please make sure the missing libraries mentioned above are installed properly if you would like to use GPU. Follow the guide at https://www.tensorflow.org/install/gpu for how to download and setup the required libraries for your platform.\n",
      "Skipping registering GPU devices...\n"
     ]
    }
   ],
   "source": [
    "from recipes_predict import RecipeInstance\n",
    "from recipes_data_preprocessing import *"
   ]
  },
  {
   "cell_type": "code",
   "execution_count": 6,
   "metadata": {},
   "outputs": [],
   "source": [
    "def evaluate_instance(gold, predicted):\n",
    "    fp, fn, tp, tn = 0, 0, 0, 0\n",
    "    all_key_value_pairs = [('composition', 'change'), ('cookedness', 'cooked'), ('temperature', 'cold'), ('temperature', 'hot'), ('temperature', 'room'), ('temperature', 'nc'), ('rotation', 'turned'), ('rotation', 'nc'), ('shape', 'deformed'), ('shape', 'hit'), ('shape', 'molded'), ('shape', 'separated'), ('cleanliness', 'clean'), ('cleanliness', 'dry'), ('accessibility', 'not_accessible')]\n",
    "    # true gold  >> true positive and false negative  \n",
    "    for k, v in gold.items():\n",
    "        for vi in v:\n",
    "            if k in predicted.keys():\n",
    "                if vi in predicted[k]:\n",
    "                    tp += 1\n",
    "                else:\n",
    "                    fn += 1\n",
    "            else:\n",
    "                fn += 1\n",
    "    for kv in all_key_value_pairs:\n",
    "        k, v = kv\n",
    "        if k not in gold.keys() and k not in predicted.keys():\n",
    "            tn += 1            \n",
    "    # also take care of location true negatives\n",
    "    if 'location' not in gold.keys() and 'location' not in predicted.keys():\n",
    "        tn += 1\n",
    "\n",
    "    # false positives\n",
    "    for k, v in predicted.items():\n",
    "        if k not in gold.keys():\n",
    "            fp += 1\n",
    "        else:\n",
    "            for vi in v:\n",
    "                if vi not in gold[k]:\n",
    "                    fp += 1    \n",
    "    return {'tp': tp, 'fp': fp, 'tn': tn, 'fn': fn}\n",
    "\n",
    "def evaluate_location_only_instance(gold, predicted):\n",
    "    fp, fn, tp, tn = 0, 0, 0, 0\n",
    "    # all_key_value_pairs = [('composition', 'change'), ('cookedness', 'cooked'), ('temperature', 'cold'), ('temperature', 'hot'), ('temperature', 'room'), ('temperature', 'nc'), ('rotation', 'turned'), ('rotation', 'nc'), ('shape', 'deformed'), ('shape', 'hit'), ('shape', 'molded'), ('shape', 'separated'), ('cleanliness', 'clean'), ('cleanliness', 'dry'), ('accessibility', 'not_accessible')]\n",
    "    # true gold  >> true positive and false negative  \n",
    "    for k, v in gold.items():\n",
    "        if k == 'location':\n",
    "            for vi in v:            \n",
    "                if k in predicted.keys():\n",
    "                    if vi in predicted[k]:\n",
    "                        tp += 1\n",
    "                    else:\n",
    "                        fn += 1\n",
    "                else:\n",
    "                    fn += 1        \n",
    "    if 'location' not in gold.keys() and 'location' not in predicted.keys():\n",
    "        tn += 1\n",
    "    for k, v in predicted.items():\n",
    "        if k == 'location':\n",
    "            if k not in gold.keys():\n",
    "                fp += 1\n",
    "            else:\n",
    "                for vi in v:\n",
    "                    if vi not in gold[k]:\n",
    "                        fp += 1    \n",
    "    return {'tp': tp, 'fp': fp, 'tn': tn, 'fn': fn}\n",
    "\n",
    "def evaluate_split(split, split_data, location_only=False):\n",
    "    fp, fn, tp, tn = 0, 0, 0, 0\n",
    "    for i in range(len(split_data)):\n",
    "        inst = RecipeInstance(split, split_data, i)\n",
    "        for sid in inst.sentence_level.keys():\n",
    "            gold = inst.sentence_level[sid]['sentence_gold_states']\n",
    "            predicted = inst.sentence_level[sid]['sentence_predicted_states']\n",
    "            if location_only:\n",
    "                instance_eval_scores = evaluate_location_only_instance(gold, predicted)\n",
    "            else:\n",
    "                instance_eval_scores = evaluate_instance(gold, predicted)\n",
    "            fp += instance_eval_scores['fp']\n",
    "            fn += instance_eval_scores['fn']\n",
    "            tp += instance_eval_scores['tp']\n",
    "            tn += instance_eval_scores['tn']\n",
    "    total = tp + tn + fp + fn\n",
    "    precision = tp*1.0/float(tp+fp)\n",
    "    recall = tp*1.0/float(tp+fn)\n",
    "    f1 = 2*(recall*precision)/float(recall+precision)\n",
    "    accuracy = (tp+tn)*1.0/float(total)\n",
    "    return {'p': precision, 'r': recall, 'f1': f1, 'acc': accuracy}\n",
    "\n",
    "\n"
   ]
  },
  {
   "cell_type": "code",
   "execution_count": 7,
   "metadata": {},
   "outputs": [
    {
     "name": "stderr",
     "output_type": "stream",
     "text": [
      "/bin/sh: 1: %20sugar%20,%20pour%20over%20pork%20.: not found\n",
      "/bin/sh: 1: Syntax error: Unterminated quoted string\n"
     ]
    },
    {
     "name": "stdout",
     "output_type": "stream",
     "text": [
      "Parsing failed!\n"
     ]
    },
    {
     "name": "stderr",
     "output_type": "stream",
     "text": [
      "/bin/sh: 1: Syntax error: Unterminated quoted string\n"
     ]
    },
    {
     "name": "stdout",
     "output_type": "stream",
     "text": [
      "Parsing failed!\n",
      "Parsing failed!\n"
     ]
    },
    {
     "name": "stderr",
     "output_type": "stream",
     "text": [
      "/bin/sh: 1: Syntax error: Unterminated quoted string\n",
      "/bin/sh: 1: Syntax error: Unterminated quoted string\n"
     ]
    },
    {
     "name": "stdout",
     "output_type": "stream",
     "text": [
      "Parsing failed!\n"
     ]
    },
    {
     "name": "stderr",
     "output_type": "stream",
     "text": [
      "/bin/sh: 1: Syntax error: Unterminated quoted string\n"
     ]
    },
    {
     "name": "stdout",
     "output_type": "stream",
     "text": [
      "Parsing failed!\n"
     ]
    },
    {
     "name": "stderr",
     "output_type": "stream",
     "text": [
      "/bin/sh: 1: Syntax error: Unterminated quoted string\n"
     ]
    },
    {
     "name": "stdout",
     "output_type": "stream",
     "text": [
      "Parsing failed!\n"
     ]
    },
    {
     "name": "stderr",
     "output_type": "stream",
     "text": [
      "/bin/sh: 1: %20pat%20dry%20.: not found\n",
      "/bin/sh: 1: Syntax error: Unterminated quoted string\n"
     ]
    },
    {
     "name": "stdout",
     "output_type": "stream",
     "text": [
      "Parsing failed!\n"
     ]
    },
    {
     "name": "stderr",
     "output_type": "stream",
     "text": [
      "/bin/sh: 1: %20chop%20tomatoes%20,%20discarding%20seeds%20.: not found\n",
      "/bin/sh: 1: %20garlic%20and%20saute%20until%20onion%20is%20limp%20.: not found\n",
      "/bin/sh: 1: %20pepper%20.: not found\n",
      "/bin/sh: 1: %20: not found\n",
      "/bin/sh: 1: Syntax error: EOF in backquote substitution\n"
     ]
    },
    {
     "name": "stdout",
     "output_type": "stream",
     "text": [
      "Parsing failed!\n"
     ]
    },
    {
     "data": {
      "text/plain": [
       "{'p': 0.3735408560311284,\n",
       " 'r': 0.38247011952191234,\n",
       " 'f1': 0.3779527559055118,\n",
       " 'acc': 0.6400911161731208}"
      ]
     },
     "execution_count": 7,
     "metadata": {},
     "output_type": "execute_result"
    }
   ],
   "source": [
    "split = 'test'\n",
    "split_data = getSplit(split)\n",
    "res = evaluate_split(split, split_data, location_only=True)\n",
    "res"
   ]
  },
  {
   "cell_type": "code",
   "execution_count": null,
   "metadata": {},
   "outputs": [],
   "source": []
  }
 ],
 "metadata": {
  "interpreter": {
   "hash": "907ab1cc242d4b6c03a3ff45f8a69e227e60281c68a39ae73f495b5108c790f9"
  },
  "kernelspec": {
   "display_name": "Python 3.8.13 ('ghazaleh-dis')",
   "language": "python",
   "name": "python3"
  },
  "language_info": {
   "codemirror_mode": {
    "name": "ipython",
    "version": 3
   },
   "file_extension": ".py",
   "mimetype": "text/x-python",
   "name": "python",
   "nbconvert_exporter": "python",
   "pygments_lexer": "ipython3",
   "version": "3.8.13"
  },
  "orig_nbformat": 4
 },
 "nbformat": 4,
 "nbformat_minor": 2
}
